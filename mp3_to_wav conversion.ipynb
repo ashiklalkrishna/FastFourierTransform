{
  "nbformat": 4,
  "nbformat_minor": 0,
  "metadata": {
    "colab": {
      "provenance": [],
      "authorship_tag": "ABX9TyP7ddVjFLWO8peDXDi6HvgT",
      "include_colab_link": true
    },
    "kernelspec": {
      "name": "python3",
      "display_name": "Python 3"
    },
    "language_info": {
      "name": "python"
    }
  },
  "cells": [
    {
      "cell_type": "markdown",
      "metadata": {
        "id": "view-in-github",
        "colab_type": "text"
      },
      "source": [
        "<a href=\"https://colab.research.google.com/github/ashiklalkrishna/FastFourierTransform/blob/main/mp3_to_wav%20conversion.ipynb\" target=\"_parent\"><img src=\"https://colab.research.google.com/assets/colab-badge.svg\" alt=\"Open In Colab\"/></a>"
      ]
    },
    {
      "cell_type": "code",
      "execution_count": null,
      "metadata": {
        "id": "4_-lyfzppqMs"
      },
      "outputs": [],
      "source": [
        "!pip install pydub\n",
        "\n",
        "from pydub import AudioSegment\n",
        "\n",
        "# set the file paths\n",
        "mp3_file = \"/path/to/input/file.mp3\"\n",
        "wav_file = \"/path/to/output/file.wav\"\n",
        "\n",
        "# read the mp3 file\n",
        "audio = AudioSegment.from_file(mp3_file)\n",
        "\n",
        "# export the audio in wav format\n",
        "audio.export(wav_file, format=\"wav\")"
      ]
    }
  ]
}